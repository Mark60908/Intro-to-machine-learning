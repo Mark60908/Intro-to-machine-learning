{
 "cells": [
  {
   "cell_type": "code",
   "execution_count": 1,
   "metadata": {},
   "outputs": [
    {
     "data": {
      "text/html": [
       "<script>\n",
       "code_show=true; \n",
       "function code_toggle() {\n",
       "  if (code_show) {\n",
       "    $('div.input').each(function(id) {\n",
       "      if (id == 0 || $(this).html().indexOf('hide_me') > -1) {\n",
       "        $(this).hide();\n",
       "      }\n",
       "    });\n",
       "    $('div.output_prompt').css('opacity', 0);\n",
       "  } else {\n",
       "    $('div.input').each(function(id) {\n",
       "      $(this).show();\n",
       "    });\n",
       "    $('div.output_prompt').css('opacity', 1);\n",
       "  }\n",
       "  code_show = !code_show\n",
       "} \n",
       "$( document ).ready(code_toggle);\n",
       "</script>\n",
       "<form action=\"javascript:code_toggle()\"><input style=\"opacity:100\" type=\"submit\" value=\"Click here to toggle on/off the raw code.\"></form>"
      ],
      "text/plain": [
       "<IPython.core.display.HTML object>"
      ]
     },
     "execution_count": 1,
     "metadata": {},
     "output_type": "execute_result"
    }
   ],
   "source": [
    "from IPython.display import HTML\n",
    "hide_me = ''\n",
    "HTML('''<script>\n",
    "code_show=true; \n",
    "function code_toggle() {\n",
    "  if (code_show) {\n",
    "    $('div.input').each(function(id) {\n",
    "      if (id == 0 || $(this).html().indexOf('hide_me') > -1) {\n",
    "        $(this).hide();\n",
    "      }\n",
    "    });\n",
    "    $('div.output_prompt').css('opacity', 0);\n",
    "  } else {\n",
    "    $('div.input').each(function(id) {\n",
    "      $(this).show();\n",
    "    });\n",
    "    $('div.output_prompt').css('opacity', 1);\n",
    "  }\n",
    "  code_show = !code_show\n",
    "} \n",
    "$( document ).ready(code_toggle);\n",
    "</script>\n",
    "<form action=\"javascript:code_toggle()\"><input style=\"opacity:100\" type=\"submit\" value=\"Click here to toggle on/off the raw code.\"></form>''')"
   ]
  },
  {
   "cell_type": "markdown",
   "metadata": {},
   "source": [
    "# Identifying Fraud from Enron Email\n",
    "by Mark Lin"
   ]
  },
  {
   "cell_type": "markdown",
   "metadata": {},
   "source": [
    "# 1.Introduction  \n",
    "\n",
    "Enron Corporation was one of the biggest American company in energy, commodities, and services, which filed bankruptcy in late 2001 due to a huge accounting fraud. Since then, Enron had become a well-known corporation fraud example, and lots of inside information went public. Including tons of email messages and financial data of their major employees.\n",
    "\n",
    "The goal of this project is to analyze these available data, select some features that help us to distinguish the suspects of this fraud (we call them POI, person of interst in the dataset).\n",
    "\n",
    "We will use machine learning algorithms to learn certain behaviors that showed in the dataset from those people who are POI, and see if there is a pattern that we can apply to recognize some suspects from outside the dataset."
   ]
  },
  {
   "cell_type": "markdown",
   "metadata": {},
   "source": [
    "# 2.Data Exploration and Preparation"
   ]
  },
  {
   "cell_type": "markdown",
   "metadata": {},
   "source": [
    "## 2.1 Data Overview "
   ]
  },
  {
   "cell_type": "code",
   "execution_count": 2,
   "metadata": {},
   "outputs": [
    {
     "name": "stderr",
     "output_type": "stream",
     "text": [
      "C:\\Users\\Limit50908\\Anaconda2\\lib\\site-packages\\sklearn\\cross_validation.py:44: DeprecationWarning: This module was deprecated in version 0.18 in favor of the model_selection module into which all the refactored classes and functions are moved. Also note that the interface of the new CV iterators are different from that of this module. This module will be removed in 0.20.\n",
      "  \"This module will be removed in 0.20.\", DeprecationWarning)\n",
      "C:\\Users\\Limit50908\\Anaconda2\\lib\\site-packages\\sklearn\\grid_search.py:43: DeprecationWarning: This module was deprecated in version 0.18 in favor of the model_selection module into which all the refactored classes and functions are moved. This module will be removed in 0.20.\n",
      "  DeprecationWarning)\n"
     ]
    }
   ],
   "source": [
    "hide_me\n",
    "import sys\n",
    "import pickle\n",
    "import pandas as pd\n",
    "import numpy as np\n",
    "import seaborn as sns\n",
    "import matplotlib.pyplot as plt\n",
    "import copy\n",
    "from __future__ import division \n",
    "from time import time\n",
    "from sklearn.grid_search import GridSearchCV\n",
    "sys.path.append(\"../tools/\")"
   ]
  },
  {
   "cell_type": "code",
   "execution_count": 3,
   "metadata": {
    "collapsed": true
   },
   "outputs": [],
   "source": [
    "hide_me\n",
    "with open(\"final_project_dataset.pkl\", \"r\") as data_file:\n",
    "    data_dict = pickle.load(data_file)"
   ]
  },
  {
   "cell_type": "code",
   "execution_count": 4,
   "metadata": {},
   "outputs": [
    {
     "data": {
      "text/html": [
       "<div>\n",
       "<style>\n",
       "    .dataframe thead tr:only-child th {\n",
       "        text-align: right;\n",
       "    }\n",
       "\n",
       "    .dataframe thead th {\n",
       "        text-align: left;\n",
       "    }\n",
       "\n",
       "    .dataframe tbody tr th {\n",
       "        vertical-align: top;\n",
       "    }\n",
       "</style>\n",
       "<table border=\"1\" class=\"dataframe\">\n",
       "  <thead>\n",
       "    <tr style=\"text-align: right;\">\n",
       "      <th></th>\n",
       "      <th>bonus</th>\n",
       "      <th>deferral_payments</th>\n",
       "      <th>deferred_income</th>\n",
       "      <th>director_fees</th>\n",
       "      <th>email_address</th>\n",
       "      <th>exercised_stock_options</th>\n",
       "      <th>expenses</th>\n",
       "      <th>from_messages</th>\n",
       "      <th>from_poi_to_this_person</th>\n",
       "      <th>from_this_person_to_poi</th>\n",
       "      <th>...</th>\n",
       "      <th>long_term_incentive</th>\n",
       "      <th>other</th>\n",
       "      <th>poi</th>\n",
       "      <th>restricted_stock</th>\n",
       "      <th>restricted_stock_deferred</th>\n",
       "      <th>salary</th>\n",
       "      <th>shared_receipt_with_poi</th>\n",
       "      <th>to_messages</th>\n",
       "      <th>total_payments</th>\n",
       "      <th>total_stock_value</th>\n",
       "    </tr>\n",
       "  </thead>\n",
       "  <tbody>\n",
       "    <tr>\n",
       "      <th>ALLEN PHILLIP K</th>\n",
       "      <td>4175000</td>\n",
       "      <td>2869717</td>\n",
       "      <td>-3081055</td>\n",
       "      <td>NaN</td>\n",
       "      <td>phillip.allen@enron.com</td>\n",
       "      <td>1729541</td>\n",
       "      <td>13868</td>\n",
       "      <td>2195</td>\n",
       "      <td>47</td>\n",
       "      <td>65</td>\n",
       "      <td>...</td>\n",
       "      <td>304805</td>\n",
       "      <td>152</td>\n",
       "      <td>False</td>\n",
       "      <td>126027</td>\n",
       "      <td>-126027</td>\n",
       "      <td>201955</td>\n",
       "      <td>1407</td>\n",
       "      <td>2902</td>\n",
       "      <td>4484442</td>\n",
       "      <td>1729541</td>\n",
       "    </tr>\n",
       "    <tr>\n",
       "      <th>BADUM JAMES P</th>\n",
       "      <td>NaN</td>\n",
       "      <td>178980</td>\n",
       "      <td>NaN</td>\n",
       "      <td>NaN</td>\n",
       "      <td>NaN</td>\n",
       "      <td>257817</td>\n",
       "      <td>3486</td>\n",
       "      <td>NaN</td>\n",
       "      <td>NaN</td>\n",
       "      <td>NaN</td>\n",
       "      <td>...</td>\n",
       "      <td>NaN</td>\n",
       "      <td>NaN</td>\n",
       "      <td>False</td>\n",
       "      <td>NaN</td>\n",
       "      <td>NaN</td>\n",
       "      <td>NaN</td>\n",
       "      <td>NaN</td>\n",
       "      <td>NaN</td>\n",
       "      <td>182466</td>\n",
       "      <td>257817</td>\n",
       "    </tr>\n",
       "    <tr>\n",
       "      <th>BANNANTINE JAMES M</th>\n",
       "      <td>NaN</td>\n",
       "      <td>NaN</td>\n",
       "      <td>-5104</td>\n",
       "      <td>NaN</td>\n",
       "      <td>james.bannantine@enron.com</td>\n",
       "      <td>4046157</td>\n",
       "      <td>56301</td>\n",
       "      <td>29</td>\n",
       "      <td>39</td>\n",
       "      <td>0</td>\n",
       "      <td>...</td>\n",
       "      <td>NaN</td>\n",
       "      <td>864523</td>\n",
       "      <td>False</td>\n",
       "      <td>1757552</td>\n",
       "      <td>-560222</td>\n",
       "      <td>477</td>\n",
       "      <td>465</td>\n",
       "      <td>566</td>\n",
       "      <td>916197</td>\n",
       "      <td>5243487</td>\n",
       "    </tr>\n",
       "    <tr>\n",
       "      <th>BAXTER JOHN C</th>\n",
       "      <td>1200000</td>\n",
       "      <td>1295738</td>\n",
       "      <td>-1386055</td>\n",
       "      <td>NaN</td>\n",
       "      <td>NaN</td>\n",
       "      <td>6680544</td>\n",
       "      <td>11200</td>\n",
       "      <td>NaN</td>\n",
       "      <td>NaN</td>\n",
       "      <td>NaN</td>\n",
       "      <td>...</td>\n",
       "      <td>1586055</td>\n",
       "      <td>2660303</td>\n",
       "      <td>False</td>\n",
       "      <td>3942714</td>\n",
       "      <td>NaN</td>\n",
       "      <td>267102</td>\n",
       "      <td>NaN</td>\n",
       "      <td>NaN</td>\n",
       "      <td>5634343</td>\n",
       "      <td>10623258</td>\n",
       "    </tr>\n",
       "    <tr>\n",
       "      <th>BAY FRANKLIN R</th>\n",
       "      <td>400000</td>\n",
       "      <td>260455</td>\n",
       "      <td>-201641</td>\n",
       "      <td>NaN</td>\n",
       "      <td>frank.bay@enron.com</td>\n",
       "      <td>NaN</td>\n",
       "      <td>129142</td>\n",
       "      <td>NaN</td>\n",
       "      <td>NaN</td>\n",
       "      <td>NaN</td>\n",
       "      <td>...</td>\n",
       "      <td>NaN</td>\n",
       "      <td>69</td>\n",
       "      <td>False</td>\n",
       "      <td>145796</td>\n",
       "      <td>-82782</td>\n",
       "      <td>239671</td>\n",
       "      <td>NaN</td>\n",
       "      <td>NaN</td>\n",
       "      <td>827696</td>\n",
       "      <td>63014</td>\n",
       "    </tr>\n",
       "  </tbody>\n",
       "</table>\n",
       "<p>5 rows × 21 columns</p>\n",
       "</div>"
      ],
      "text/plain": [
       "                      bonus deferral_payments deferred_income director_fees  \\\n",
       "ALLEN PHILLIP K     4175000           2869717        -3081055           NaN   \n",
       "BADUM JAMES P           NaN            178980             NaN           NaN   \n",
       "BANNANTINE JAMES M      NaN               NaN           -5104           NaN   \n",
       "BAXTER JOHN C       1200000           1295738        -1386055           NaN   \n",
       "BAY FRANKLIN R       400000            260455         -201641           NaN   \n",
       "\n",
       "                                 email_address exercised_stock_options  \\\n",
       "ALLEN PHILLIP K        phillip.allen@enron.com                 1729541   \n",
       "BADUM JAMES P                              NaN                  257817   \n",
       "BANNANTINE JAMES M  james.bannantine@enron.com                 4046157   \n",
       "BAXTER JOHN C                              NaN                 6680544   \n",
       "BAY FRANKLIN R             frank.bay@enron.com                     NaN   \n",
       "\n",
       "                   expenses from_messages from_poi_to_this_person  \\\n",
       "ALLEN PHILLIP K       13868          2195                      47   \n",
       "BADUM JAMES P          3486           NaN                     NaN   \n",
       "BANNANTINE JAMES M    56301            29                      39   \n",
       "BAXTER JOHN C         11200           NaN                     NaN   \n",
       "BAY FRANKLIN R       129142           NaN                     NaN   \n",
       "\n",
       "                   from_this_person_to_poi        ...         \\\n",
       "ALLEN PHILLIP K                         65        ...          \n",
       "BADUM JAMES P                          NaN        ...          \n",
       "BANNANTINE JAMES M                       0        ...          \n",
       "BAXTER JOHN C                          NaN        ...          \n",
       "BAY FRANKLIN R                         NaN        ...          \n",
       "\n",
       "                   long_term_incentive    other    poi restricted_stock  \\\n",
       "ALLEN PHILLIP K                 304805      152  False           126027   \n",
       "BADUM JAMES P                      NaN      NaN  False              NaN   \n",
       "BANNANTINE JAMES M                 NaN   864523  False          1757552   \n",
       "BAXTER JOHN C                  1586055  2660303  False          3942714   \n",
       "BAY FRANKLIN R                     NaN       69  False           145796   \n",
       "\n",
       "                   restricted_stock_deferred  salary shared_receipt_with_poi  \\\n",
       "ALLEN PHILLIP K                      -126027  201955                    1407   \n",
       "BADUM JAMES P                            NaN     NaN                     NaN   \n",
       "BANNANTINE JAMES M                   -560222     477                     465   \n",
       "BAXTER JOHN C                            NaN  267102                     NaN   \n",
       "BAY FRANKLIN R                        -82782  239671                     NaN   \n",
       "\n",
       "                   to_messages total_payments total_stock_value  \n",
       "ALLEN PHILLIP K           2902        4484442           1729541  \n",
       "BADUM JAMES P              NaN         182466            257817  \n",
       "BANNANTINE JAMES M         566         916197           5243487  \n",
       "BAXTER JOHN C              NaN        5634343          10623258  \n",
       "BAY FRANKLIN R             NaN         827696             63014  \n",
       "\n",
       "[5 rows x 21 columns]"
      ]
     },
     "execution_count": 4,
     "metadata": {},
     "output_type": "execute_result"
    }
   ],
   "source": [
    "hide_me\n",
    "df = pd.DataFrame(data_dict)\n",
    "df = df.T\n",
    "df.head()"
   ]
  },
  {
   "cell_type": "code",
   "execution_count": 5,
   "metadata": {},
   "outputs": [
    {
     "name": "stdout",
     "output_type": "stream",
     "text": [
      "Number of features:  21\n",
      "Number of observations:  146\n"
     ]
    },
    {
     "data": {
      "text/html": [
       "<div>\n",
       "<style>\n",
       "    .dataframe thead tr:only-child th {\n",
       "        text-align: right;\n",
       "    }\n",
       "\n",
       "    .dataframe thead th {\n",
       "        text-align: left;\n",
       "    }\n",
       "\n",
       "    .dataframe tbody tr th {\n",
       "        vertical-align: top;\n",
       "    }\n",
       "</style>\n",
       "<table border=\"1\" class=\"dataframe\">\n",
       "  <thead>\n",
       "    <tr style=\"text-align: right;\">\n",
       "      <th></th>\n",
       "      <th>0</th>\n",
       "      <th>1</th>\n",
       "      <th>2</th>\n",
       "      <th>3</th>\n",
       "      <th>4</th>\n",
       "      <th>5</th>\n",
       "      <th>6</th>\n",
       "      <th>7</th>\n",
       "      <th>8</th>\n",
       "      <th>9</th>\n",
       "      <th>...</th>\n",
       "      <th>11</th>\n",
       "      <th>12</th>\n",
       "      <th>13</th>\n",
       "      <th>14</th>\n",
       "      <th>15</th>\n",
       "      <th>16</th>\n",
       "      <th>17</th>\n",
       "      <th>18</th>\n",
       "      <th>19</th>\n",
       "      <th>20</th>\n",
       "    </tr>\n",
       "  </thead>\n",
       "  <tbody>\n",
       "    <tr>\n",
       "      <th>0</th>\n",
       "      <td>bonus</td>\n",
       "      <td>deferral_payments</td>\n",
       "      <td>deferred_income</td>\n",
       "      <td>director_fees</td>\n",
       "      <td>email_address</td>\n",
       "      <td>exercised_stock_options</td>\n",
       "      <td>expenses</td>\n",
       "      <td>from_messages</td>\n",
       "      <td>from_poi_to_this_person</td>\n",
       "      <td>from_this_person_to_poi</td>\n",
       "      <td>...</td>\n",
       "      <td>long_term_incentive</td>\n",
       "      <td>other</td>\n",
       "      <td>poi</td>\n",
       "      <td>restricted_stock</td>\n",
       "      <td>restricted_stock_deferred</td>\n",
       "      <td>salary</td>\n",
       "      <td>shared_receipt_with_poi</td>\n",
       "      <td>to_messages</td>\n",
       "      <td>total_payments</td>\n",
       "      <td>total_stock_value</td>\n",
       "    </tr>\n",
       "  </tbody>\n",
       "</table>\n",
       "<p>1 rows × 21 columns</p>\n",
       "</div>"
      ],
      "text/plain": [
       "      0                  1                2              3              4   \\\n",
       "0  bonus  deferral_payments  deferred_income  director_fees  email_address   \n",
       "\n",
       "                        5         6              7                        8   \\\n",
       "0  exercised_stock_options  expenses  from_messages  from_poi_to_this_person   \n",
       "\n",
       "                        9         ...                           11     12  \\\n",
       "0  from_this_person_to_poi        ...          long_term_incentive  other   \n",
       "\n",
       "    13                14                         15      16  \\\n",
       "0  poi  restricted_stock  restricted_stock_deferred  salary   \n",
       "\n",
       "                        17           18              19                 20  \n",
       "0  shared_receipt_with_poi  to_messages  total_payments  total_stock_value  \n",
       "\n",
       "[1 rows x 21 columns]"
      ]
     },
     "execution_count": 5,
     "metadata": {},
     "output_type": "execute_result"
    }
   ],
   "source": [
    "hide_me\n",
    "print \"Number of features: \", len(df.columns)\n",
    "print \"Number of observations: \", len(df.index)\n",
    "columns = pd.DataFrame(df.columns)\n",
    "columns.T"
   ]
  },
  {
   "cell_type": "markdown",
   "metadata": {
    "collapsed": true
   },
   "source": [
    "There are 21 columns in the dataset, which represent 21 features, and 146 observations, which means we have the 146 people's fiancial data."
   ]
  },
  {
   "cell_type": "code",
   "execution_count": 6,
   "metadata": {},
   "outputs": [
    {
     "name": "stdout",
     "output_type": "stream",
     "text": [
      "Number of Poi: 18\n",
      "Number of non-Poi: 128\n"
     ]
    }
   ],
   "source": [
    "hide_me\n",
    "print \"Number of Poi:\", len([a for a in df['poi'] if a== True])\n",
    "print \"Number of non-Poi:\", len([a for a in df['poi'] if a== False])"
   ]
  },
  {
   "cell_type": "markdown",
   "metadata": {},
   "source": [
    "Among those 146 obeservations, 18 of them are poi, other 128 are not."
   ]
  },
  {
   "cell_type": "markdown",
   "metadata": {},
   "source": [
    "## 2.2 Data Cleaning\n",
    "\n",
    "Notice that we have quite a few NaN values in the dataset, reffering to the pdf file \"enron61702insiderpay\", I found that total payment is the sum of \"salary\", \"bonus\", \"long term incentives\", \"deffered income\", \"deferral payment\", \"loan advances\", \"other\", \"expenses\" and \"director fees\". The missing value in those columns are actual 0 since the employee did not get those payments. Same here, \"total stock value\" is the sum of \"Exercised Stock Options\", \"Restricted Stock\", \"Restricted Stock Deferred\", NaNs are also 0 in these cases. "
   ]
  },
  {
   "cell_type": "code",
   "execution_count": 7,
   "metadata": {
    "collapsed": true
   },
   "outputs": [],
   "source": [
    "for i in df[\"poi\"].isnull():\n",
    "    if i :\n",
    "        print  i.index()"
   ]
  },
  {
   "cell_type": "markdown",
   "metadata": {},
   "source": [
    "From the script above, we did not encounter any NaN in \"poi\" column, and for \"email adress\" column, I will leave NaN cause we really don't have their emails recorded. For \"shared_receipts_with_poi\", I'll assume the NaNs are simply 0, it might not be true in some cases, but overall I think it's pretty rational to make this assumption. For those four columns, which are related to \"email address\" like \"to_message\", \"from_message\", \"from_poi_to_this_person\" and \"from_this_person_to_poi\", the NaNs in these columns is actually 0 since their email address isn't available, and for those NaNs that have validated email address, I will again, assume the value is 0."
   ]
  },
  {
   "cell_type": "code",
   "execution_count": 8,
   "metadata": {},
   "outputs": [
    {
     "data": {
      "text/html": [
       "<div>\n",
       "<style>\n",
       "    .dataframe thead tr:only-child th {\n",
       "        text-align: right;\n",
       "    }\n",
       "\n",
       "    .dataframe thead th {\n",
       "        text-align: left;\n",
       "    }\n",
       "\n",
       "    .dataframe tbody tr th {\n",
       "        vertical-align: top;\n",
       "    }\n",
       "</style>\n",
       "<table border=\"1\" class=\"dataframe\">\n",
       "  <thead>\n",
       "    <tr style=\"text-align: right;\">\n",
       "      <th></th>\n",
       "      <th>bonus</th>\n",
       "      <th>deferral_payments</th>\n",
       "      <th>deferred_income</th>\n",
       "      <th>director_fees</th>\n",
       "      <th>email_address</th>\n",
       "      <th>exercised_stock_options</th>\n",
       "      <th>expenses</th>\n",
       "      <th>from_messages</th>\n",
       "      <th>from_poi_to_this_person</th>\n",
       "      <th>from_this_person_to_poi</th>\n",
       "      <th>...</th>\n",
       "      <th>long_term_incentive</th>\n",
       "      <th>other</th>\n",
       "      <th>poi</th>\n",
       "      <th>restricted_stock</th>\n",
       "      <th>restricted_stock_deferred</th>\n",
       "      <th>salary</th>\n",
       "      <th>shared_receipt_with_poi</th>\n",
       "      <th>to_messages</th>\n",
       "      <th>total_payments</th>\n",
       "      <th>total_stock_value</th>\n",
       "    </tr>\n",
       "  </thead>\n",
       "  <tbody>\n",
       "    <tr>\n",
       "      <th>ALLEN PHILLIP K</th>\n",
       "      <td>4175000</td>\n",
       "      <td>2869717</td>\n",
       "      <td>-3081055</td>\n",
       "      <td>0</td>\n",
       "      <td>phillip.allen@enron.com</td>\n",
       "      <td>1729541</td>\n",
       "      <td>13868</td>\n",
       "      <td>2195</td>\n",
       "      <td>47</td>\n",
       "      <td>65</td>\n",
       "      <td>...</td>\n",
       "      <td>304805</td>\n",
       "      <td>152</td>\n",
       "      <td>False</td>\n",
       "      <td>126027</td>\n",
       "      <td>-126027</td>\n",
       "      <td>201955</td>\n",
       "      <td>1407</td>\n",
       "      <td>2902</td>\n",
       "      <td>4484442</td>\n",
       "      <td>1729541</td>\n",
       "    </tr>\n",
       "    <tr>\n",
       "      <th>BADUM JAMES P</th>\n",
       "      <td>0</td>\n",
       "      <td>178980</td>\n",
       "      <td>0</td>\n",
       "      <td>0</td>\n",
       "      <td>NaN</td>\n",
       "      <td>257817</td>\n",
       "      <td>3486</td>\n",
       "      <td>0</td>\n",
       "      <td>0</td>\n",
       "      <td>0</td>\n",
       "      <td>...</td>\n",
       "      <td>0</td>\n",
       "      <td>0</td>\n",
       "      <td>False</td>\n",
       "      <td>0</td>\n",
       "      <td>0</td>\n",
       "      <td>0</td>\n",
       "      <td>0</td>\n",
       "      <td>0</td>\n",
       "      <td>182466</td>\n",
       "      <td>257817</td>\n",
       "    </tr>\n",
       "    <tr>\n",
       "      <th>BANNANTINE JAMES M</th>\n",
       "      <td>0</td>\n",
       "      <td>0</td>\n",
       "      <td>-5104</td>\n",
       "      <td>0</td>\n",
       "      <td>james.bannantine@enron.com</td>\n",
       "      <td>4046157</td>\n",
       "      <td>56301</td>\n",
       "      <td>29</td>\n",
       "      <td>39</td>\n",
       "      <td>0</td>\n",
       "      <td>...</td>\n",
       "      <td>0</td>\n",
       "      <td>864523</td>\n",
       "      <td>False</td>\n",
       "      <td>1757552</td>\n",
       "      <td>-560222</td>\n",
       "      <td>477</td>\n",
       "      <td>465</td>\n",
       "      <td>566</td>\n",
       "      <td>916197</td>\n",
       "      <td>5243487</td>\n",
       "    </tr>\n",
       "    <tr>\n",
       "      <th>BAXTER JOHN C</th>\n",
       "      <td>1200000</td>\n",
       "      <td>1295738</td>\n",
       "      <td>-1386055</td>\n",
       "      <td>0</td>\n",
       "      <td>NaN</td>\n",
       "      <td>6680544</td>\n",
       "      <td>11200</td>\n",
       "      <td>0</td>\n",
       "      <td>0</td>\n",
       "      <td>0</td>\n",
       "      <td>...</td>\n",
       "      <td>1586055</td>\n",
       "      <td>2660303</td>\n",
       "      <td>False</td>\n",
       "      <td>3942714</td>\n",
       "      <td>0</td>\n",
       "      <td>267102</td>\n",
       "      <td>0</td>\n",
       "      <td>0</td>\n",
       "      <td>5634343</td>\n",
       "      <td>10623258</td>\n",
       "    </tr>\n",
       "    <tr>\n",
       "      <th>BAY FRANKLIN R</th>\n",
       "      <td>400000</td>\n",
       "      <td>260455</td>\n",
       "      <td>-201641</td>\n",
       "      <td>0</td>\n",
       "      <td>frank.bay@enron.com</td>\n",
       "      <td>0</td>\n",
       "      <td>129142</td>\n",
       "      <td>0</td>\n",
       "      <td>0</td>\n",
       "      <td>0</td>\n",
       "      <td>...</td>\n",
       "      <td>0</td>\n",
       "      <td>69</td>\n",
       "      <td>False</td>\n",
       "      <td>145796</td>\n",
       "      <td>-82782</td>\n",
       "      <td>239671</td>\n",
       "      <td>0</td>\n",
       "      <td>0</td>\n",
       "      <td>827696</td>\n",
       "      <td>63014</td>\n",
       "    </tr>\n",
       "  </tbody>\n",
       "</table>\n",
       "<p>5 rows × 21 columns</p>\n",
       "</div>"
      ],
      "text/plain": [
       "                      bonus  deferral_payments  deferred_income  \\\n",
       "ALLEN PHILLIP K     4175000            2869717         -3081055   \n",
       "BADUM JAMES P             0             178980                0   \n",
       "BANNANTINE JAMES M        0                  0            -5104   \n",
       "BAXTER JOHN C       1200000            1295738         -1386055   \n",
       "BAY FRANKLIN R       400000             260455          -201641   \n",
       "\n",
       "                    director_fees               email_address  \\\n",
       "ALLEN PHILLIP K                 0     phillip.allen@enron.com   \n",
       "BADUM JAMES P                   0                         NaN   \n",
       "BANNANTINE JAMES M              0  james.bannantine@enron.com   \n",
       "BAXTER JOHN C                   0                         NaN   \n",
       "BAY FRANKLIN R                  0         frank.bay@enron.com   \n",
       "\n",
       "                    exercised_stock_options  expenses  from_messages  \\\n",
       "ALLEN PHILLIP K                     1729541     13868           2195   \n",
       "BADUM JAMES P                        257817      3486              0   \n",
       "BANNANTINE JAMES M                  4046157     56301             29   \n",
       "BAXTER JOHN C                       6680544     11200              0   \n",
       "BAY FRANKLIN R                            0    129142              0   \n",
       "\n",
       "                    from_poi_to_this_person  from_this_person_to_poi  \\\n",
       "ALLEN PHILLIP K                          47                       65   \n",
       "BADUM JAMES P                             0                        0   \n",
       "BANNANTINE JAMES M                       39                        0   \n",
       "BAXTER JOHN C                             0                        0   \n",
       "BAY FRANKLIN R                            0                        0   \n",
       "\n",
       "                          ...          long_term_incentive    other    poi  \\\n",
       "ALLEN PHILLIP K           ...                       304805      152  False   \n",
       "BADUM JAMES P             ...                            0        0  False   \n",
       "BANNANTINE JAMES M        ...                            0   864523  False   \n",
       "BAXTER JOHN C             ...                      1586055  2660303  False   \n",
       "BAY FRANKLIN R            ...                            0       69  False   \n",
       "\n",
       "                    restricted_stock  restricted_stock_deferred  salary  \\\n",
       "ALLEN PHILLIP K               126027                    -126027  201955   \n",
       "BADUM JAMES P                      0                          0       0   \n",
       "BANNANTINE JAMES M           1757552                    -560222     477   \n",
       "BAXTER JOHN C                3942714                          0  267102   \n",
       "BAY FRANKLIN R                145796                     -82782  239671   \n",
       "\n",
       "                    shared_receipt_with_poi  to_messages  total_payments  \\\n",
       "ALLEN PHILLIP K                        1407         2902         4484442   \n",
       "BADUM JAMES P                             0            0          182466   \n",
       "BANNANTINE JAMES M                      465          566          916197   \n",
       "BAXTER JOHN C                             0            0         5634343   \n",
       "BAY FRANKLIN R                            0            0          827696   \n",
       "\n",
       "                    total_stock_value  \n",
       "ALLEN PHILLIP K               1729541  \n",
       "BADUM JAMES P                  257817  \n",
       "BANNANTINE JAMES M            5243487  \n",
       "BAXTER JOHN C                10623258  \n",
       "BAY FRANKLIN R                  63014  \n",
       "\n",
       "[5 rows x 21 columns]"
      ]
     },
     "execution_count": 8,
     "metadata": {},
     "output_type": "execute_result"
    }
   ],
   "source": [
    "hide_me\n",
    "df = df.replace(\"NaN\", 0)\n",
    "df[\"email_address\"] = df[\"email_address\"].replace(0, \"NaN\")\n",
    "df.head()"
   ]
  },
  {
   "cell_type": "markdown",
   "metadata": {},
   "source": [
    "## 2.3 Remove Outliers "
   ]
  },
  {
   "cell_type": "markdown",
   "metadata": {},
   "source": [
    "We have 21 features available, but I will take \"email_address\" out of the list. The reason is that \"email_address\" itself is not a number, couldn't have any outliers.Now, we've cleaned the dataset, it's time to find out if there's any outliers in the dataset. First, let's take a look at these features visually."
   ]
  },
  {
   "cell_type": "code",
   "execution_count": 9,
   "metadata": {},
   "outputs": [
    {
     "name": "stdout",
     "output_type": "stream",
     "text": [
      "Populating the interactive namespace from numpy and matplotlib\n"
     ]
    },
    {
     "name": "stderr",
     "output_type": "stream",
     "text": [
      "C:\\Users\\Limit50908\\Anaconda2\\lib\\site-packages\\IPython\\core\\magics\\pylab.py:161: UserWarning: pylab import has clobbered these variables: ['copy']\n",
      "`%matplotlib` prevents importing * from pylab and numpy\n",
      "  \"\\n`%matplotlib` prevents importing * from pylab and numpy\"\n"
     ]
    },
    {
     "data": {
      "image/png": "[encoded data removed]",
      "text/plain": [
       "<matplotlib.figure.Figure at 0xc0fb358>"
      ]
     },
     "metadata": {},
     "output_type": "display_data"
    }
   ],
   "source": [
    "hide_me\n",
    "%pylab inline\n",
    "features = [{\"x\":\"salary\",\"y\":\"bonus\"},{\"x\":\"from_this_person_to_poi\", \"y\":\"from_poi_to_this_person\"},\n",
    "            {\"x\":\"to_messages\", \"y\":\"from_messages\"},{\"x\":\"deferral_payments\", \"y\":\"deferred_income\"},\n",
    "            {\"x\":\"expenses\", \"y\":\"loan_advances\"},{\"x\":\"long_term_incentive\", \"y\":\"other\"},\n",
    "            {\"x\":\"exercised_stock_options\", \"y\":\"director_fees\"},{\"x\":\"restricted_stock_deferred\", \"y\":\"restricted_stock\"},\n",
    "            {\"x\":\"poi\", \"y\":\"shared_receipt_with_poi\"}, {\"x\":\"total_payments\", \"y\":\"total_stock_value\"}]\n",
    "\n",
    "\n",
    "for i in range(0,10):\n",
    "    plot = plt.subplot(5,2,i+1)\n",
    "    feature = features[i]\n",
    "    plt.scatter(x=df[feature[\"x\"]], y=df[feature[\"y\"]])\n",
    "    plt.grid(True)\n",
    "    plt.xlabel(feature[\"x\"])\n",
    "    plt.ylabel(feature[\"y\"])\n",
    "    plt.subplots_adjust(top=3.2, bottom=0.08, left=0.001, right=1.5, hspace=0.45, wspace=0.35)\n",
    "   "
   ]
  },
  {
   "cell_type": "markdown",
   "metadata": {},
   "source": [
    "From the plots, we can see that \"from_this_person_to_poi\" and \"from_poi_to_this_person\", \"to_messages\" and \"from_messages\", \"poi\" and \"shared_receipt_with_poi\" have no outliers. Other features have more or less outliers, so next step I am going to remove these points programmatically."
   ]
  },
  {
   "cell_type": "code",
   "execution_count": 10,
   "metadata": {
    "collapsed": true
   },
   "outputs": [],
   "source": [
    "hide_me\n",
    "df = df.drop(df.bonus.argmax())\n",
    "#df = df.drop(df.total_payments.argmax())\n",
    "#df = df.drop(df.total_stock_value.argmax())\n"
   ]
  },
  {
   "cell_type": "markdown",
   "metadata": {},
   "source": [
    "1.The outlier of \"salary\" and \"bonus\" is TOTAL, which is not a person, so we should definitely remove this. After that, we still   see four points that lie far away from the majority, however, those are not outliers, the big number is reasonable, beacause     that's the salary and bonus of the chiefs in Enron.\n",
    "\n",
    "2.Surprisingly to find, after remove the \"TOTAL\" out of the dataset, we do not see any weird outliers, though there is still      \n",
    "  some outliers in terms of value.\n",
    "  \n",
    "3.Outliers can appear due to various reasons, for example, a typo from hunman being, in this case, since the numbers are not \n",
    "  impossible, so I will keep it in the dataset.\n",
    "  \n",
    "Let us see the plots without outliers."
   ]
  },
  {
   "cell_type": "code",
   "execution_count": 11,
   "metadata": {},
   "outputs": [
    {
     "name": "stdout",
     "output_type": "stream",
     "text": [
      "Populating the interactive namespace from numpy and matplotlib\n"
     ]
    },
    {
     "name": "stderr",
     "output_type": "stream",
     "text": [
      "C:\\Users\\Limit50908\\Anaconda2\\lib\\site-packages\\IPython\\core\\magics\\pylab.py:161: UserWarning: pylab import has clobbered these variables: ['plot']\n",
      "`%matplotlib` prevents importing * from pylab and numpy\n",
      "  \"\\n`%matplotlib` prevents importing * from pylab and numpy\"\n"
     ]
    },
    {
     "data": {
      "image/png": "[encoded data removed]",
      "text/plain": [
       "<matplotlib.figure.Figure at 0xd9019e8>"
      ]
     },
     "metadata": {},
     "output_type": "display_data"
    }
   ],
   "source": [
    "hide_me\n",
    "%pylab inline\n",
    "features = [{\"x\":\"salary\",\"y\":\"bonus\"},{\"x\":\"from_this_person_to_poi\", \"y\":\"from_poi_to_this_person\"},\n",
    "            {\"x\":\"to_messages\", \"y\":\"from_messages\"},{\"x\":\"deferral_payments\", \"y\":\"deferred_income\"},\n",
    "            {\"x\":\"expenses\", \"y\":\"loan_advances\"},{\"x\":\"long_term_incentive\", \"y\":\"other\"},\n",
    "            {\"x\":\"exercised_stock_options\", \"y\":\"director_fees\"},{\"x\":\"restricted_stock_deferred\", \"y\":\"restricted_stock\"},\n",
    "            {\"x\":\"poi\", \"y\":\"shared_receipt_with_poi\"}, {\"x\":\"total_payments\", \"y\":\"total_stock_value\"}]\n",
    "\n",
    "\n",
    "for i in range(0,10):\n",
    "    plot = plt.subplot(5,2,i+1)\n",
    "    feature = features[i]\n",
    "    plt.scatter(x=df[feature[\"x\"]], y=df[feature[\"y\"]])\n",
    "    plt.grid(True)\n",
    "    plt.xlabel(feature[\"x\"])\n",
    "    plt.ylabel(feature[\"y\"])\n",
    "    plt.subplots_adjust(top=3.2, bottom=0.08, left=0.001, right=1.5, hspace=0.45, wspace=0.35)"
   ]
  },
  {
   "cell_type": "markdown",
   "metadata": {},
   "source": [
    "# 3 Select and Create Features"
   ]
  },
  {
   "cell_type": "markdown",
   "metadata": {},
   "source": [
    "## 3.1 Creating features and implementation"
   ]
  },
  {
   "cell_type": "markdown",
   "metadata": {},
   "source": [
    "We have cleaned and outliers free dataset, it is time to select and create features that being used in machine learning."
   ]
  },
  {
   "cell_type": "code",
   "execution_count": 12,
   "metadata": {},
   "outputs": [
    {
     "data": {
      "text/plain": [
       "<matplotlib.axes._subplots.AxesSubplot at 0xd31e240>"
      ]
     },
     "execution_count": 12,
     "metadata": {},
     "output_type": "execute_result"
    },
    {
     "data": {
      "image/png": "[encoded data removed]",
      "text/plain": [
       "<matplotlib.figure.Figure at 0xc10b518>"
      ]
     },
     "metadata": {},
     "output_type": "display_data"
    }
   ],
   "source": [
    "hide_me\n",
    "sns.set(style=\"white\")\n",
    "corr = df.corr()\n",
    "\n",
    "# Generate a mask for the upper triangle\n",
    "mask = np.zeros_like(corr, dtype=np.bool)\n",
    "mask[np.triu_indices_from(mask)] = True\n",
    "\n",
    "# Set up the matplotlib figure\n",
    "f, ax = plt.subplots(figsize=(11, 9))\n",
    "\n",
    "# Generate a custom diverging colormap\n",
    "cmap = sns.diverging_palette(220, 10, as_cmap=True)\n",
    "\n",
    "# Draw the heatmap with the mask and correct aspect ratio\n",
    "sns.heatmap(corr, mask=mask, cmap=cmap, vmax=.3,\n",
    "            square=True, xticklabels=True, yticklabels=True,\n",
    "            linewidths=.8, cbar_kws={\"shrink\": .5}, ax=ax)"
   ]
  },
  {
   "cell_type": "markdown",
   "metadata": {},
   "source": [
    "The purpose of the correlation heat map is help create new features. I will create some new features based on the high correlated variables, because we do not want to create random variables by using random variables, which will avoid overfitting. I will create three new features here, the first one is \"wealth\", I create \"wealth\" by adding up five high correlated variables, which are \"salary\"/\"bonus\"/\"long_term_incentive\"/\"restricted_stock\"/\"other\". The reason why I create this is because, people are easier to fraud if they have wealth and power in their position. The second and third one are \"proportion_from_poi_mail\"/ \"proportion_to_poi_mail\". People are more suspicious if they talked a lot with the poi, \"proportion_from_poi_mail\" is defined as a fraction of \"from_poi_to_this_person\" to \"to_messages\", while 'proportion_to_poi_mail' is defined as a proportion of \"from_this_person_to_poi\" to \"from_messages\"."
   ]
  },
  {
   "cell_type": "code",
   "execution_count": 13,
   "metadata": {
    "collapsed": true
   },
   "outputs": [],
   "source": [
    "hide_me\n",
    "df['wealth'] = df[\"salary\"] + df[\"bonus\"] + df[\"long_term_incentive\"] + df[\"restricted_stock\"] + df[\"other\"]\n",
    "df['proportion_from_poi_mail'] = df[\"from_poi_to_this_person\"]/df[\"to_messages\"] \n",
    "df['proportion_to_poi_mail'] = df[\"from_this_person_to_poi\"]/df[\"from_messages\"]\n",
    "df['wealth'].fillna(0, inplace=True)\n",
    "df['proportion_from_poi_mail'].fillna(0, inplace=True)\n",
    "df['proportion_to_poi_mail'].fillna(0, inplace=True)"
   ]
  },
  {
   "cell_type": "code",
   "execution_count": 14,
   "metadata": {
    "collapsed": true
   },
   "outputs": [],
   "source": [
    "hide_me\n",
    "features_to_test = ['poi','bonus','salary','deferral_payments','deferred_income','director_fees',\n",
    "                    'exercised_stock_options','expenses','total_payments','total_stock_value',\n",
    "                    'from_messages','from_poi_to_this_person','from_this_person_to_poi',\n",
    "                    'loan_advances','long_term_incentive','other','restricted_stock',\n",
    "                    'restricted_stock_deferred','shared_receipt_with_poi','to_messages', \n",
    "                    'proportion_to_poi_mail', 'proportion_from_poi_mail', 'wealth']\n",
    "dic = df.to_dict(orient=\"index\")"
   ]
  },
  {
   "cell_type": "code",
   "execution_count": 15,
   "metadata": {},
   "outputs": [
    {
     "name": "stdout",
     "output_type": "stream",
     "text": [
      "Pipeline(steps=[('features', FeatureUnion(n_jobs=1,\n",
      "       transformer_list=[('scale', MinMaxScaler(copy=True, feature_range=(0, 1)))],\n",
      "       transformer_weights=None)), ('classify', DecisionTreeClassifier(class_weight=None, criterion='gini', max_depth=None,\n",
      "            max_features=None, max_leaf_nodes=None,\n",
      "            min_impurity_split=1e-07, min_samples_leaf=1,\n",
      "            min_samples_split=2, min_weight_fraction_leaf=0.0,\n",
      "            presort=False, random_state=None, splitter='best'))])\n",
      "\tAccuracy: 0.81787\tPrecision: 0.29553\tRecall: 0.26450\tF1: 0.27916\tF2: 0.27017\n",
      "\tTotal predictions: 15000\tTrue positives:  529\tFalse positives: 1261\tFalse negatives: 1471\tTrue negatives: 11739\n",
      "\n"
     ]
    }
   ],
   "source": [
    "hide_me\n",
    "from sklearn.tree import DecisionTreeClassifier\n",
    "from sklearn.pipeline import Pipeline, FeatureUnion\n",
    "from sklearn.preprocessing import MinMaxScaler\n",
    "from tester import test_classifier\n",
    "\n",
    "combined_features = FeatureUnion([('scale', MinMaxScaler())])\n",
    "estimators = [('features', combined_features),('classify', DecisionTreeClassifier())]\n",
    "pclf = Pipeline(estimators)\n",
    "\n",
    "test_classifier(pclf, dic, features_to_test)"
   ]
  },
  {
   "cell_type": "code",
   "execution_count": 16,
   "metadata": {
    "scrolled": true
   },
   "outputs": [
    {
     "name": "stdout",
     "output_type": "stream",
     "text": [
      "1. exercised_stock_options (0.33)\n",
      "2. bonus (0.18)\n",
      "3. proportion_to_poi_mail (0.13)\n",
      "4. shared_receipt_with_poi (0.13)\n",
      "5. other (0.07)\n",
      "6. total_payments (0.06)\n",
      "7. expenses (0.05)\n",
      "8. wealth (0.04)\n",
      "9. from_poi_to_this_person (0.02)\n",
      "10. long_term_incentive (0.00)\n",
      "11. loan_advances (0.00)\n",
      "12. from_this_person_to_poi (0.00)\n",
      "13. proportion_from_poi_mail (0.00)\n",
      "14. from_messages (0.00)\n",
      "15. total_stock_value (0.00)\n",
      "16. restricted_stock (0.00)\n",
      "17. restricted_stock_deferred (0.00)\n",
      "18. to_messages (0.00)\n",
      "19. director_fees (0.00)\n",
      "20. deferred_income (0.00)\n",
      "21. deferral_payments (0.00)\n",
      "22. salary (0.00)\n"
     ]
    }
   ],
   "source": [
    "hide_me\n",
    "importances = pclf.steps[-1][1].feature_importances_\n",
    "indices = np.argsort(importances)[::-1]\n",
    "for f in range(22):\n",
    "    print(\"%d. %s (%0.2f)\" % (f + 1, features_to_test[1:][indices[f]], importances[indices[f]]))"
   ]
  },
  {
   "cell_type": "markdown",
   "metadata": {},
   "source": [
    "Based on the \"importances\" and correlation heatmap, I will keep the only 9 features that contibute to this algorithm and see how it performs. "
   ]
  },
  {
   "cell_type": "code",
   "execution_count": 17,
   "metadata": {
    "collapsed": true
   },
   "outputs": [],
   "source": [
    "hide_me\n",
    "features_to_test_2 = ['poi', 'bonus', 'total_stock_value', 'shared_receipt_with_poi',\n",
    "                  'long_term_incentive', 'deferred_income',\n",
    "                 'exercised_stock_options', 'total_payments', 'proportion_to_poi_mail']"
   ]
  },
  {
   "cell_type": "code",
   "execution_count": 18,
   "metadata": {},
   "outputs": [
    {
     "name": "stdout",
     "output_type": "stream",
     "text": [
      "Pipeline(steps=[('features', FeatureUnion(n_jobs=1,\n",
      "       transformer_list=[('scale', MinMaxScaler(copy=True, feature_range=(0, 1)))],\n",
      "       transformer_weights=None)), ('classify', DecisionTreeClassifier(class_weight=None, criterion='gini', max_depth=None,\n",
      "            max_features=None, max_leaf_nodes=None,\n",
      "            min_impurity_split=1e-07, min_samples_leaf=1,\n",
      "            min_samples_split=2, min_weight_fraction_leaf=0.0,\n",
      "            presort=False, random_state=None, splitter='best'))])\n",
      "\tAccuracy: 0.84587\tPrecision: 0.41667\tRecall: 0.39000\tF1: 0.40289\tF2: 0.39506\n",
      "\tTotal predictions: 15000\tTrue positives:  780\tFalse positives: 1092\tFalse negatives: 1220\tTrue negatives: 11908\n",
      "\n",
      "Time used:  3.76\n"
     ]
    }
   ],
   "source": [
    "hide_me\n",
    "t0 = time()\n",
    "test_classifier(pclf, dic, features_to_test_2)\n",
    "print \"Time used: \",  round(time()-t0, 2)"
   ]
  },
  {
   "cell_type": "markdown",
   "metadata": {},
   "source": [
    "We got a better result than keeping these factors in our model, therefore, I will select, ['poi','bonus', 'total_payments', 'shared_receipt_with_poi', 'salary', 'wealth','total_stock_value','from_poi_to_this_person', 'deferred_income', \"to_messages\", \n",
    "'from_this_person_to_poi','other','restricted_stock', \"proportion_to_poi_mail\"], these 14 features."
   ]
  },
  {
   "cell_type": "markdown",
   "metadata": {},
   "source": [
    "# 4.Pick and Tune an Algorithm"
   ]
  },
  {
   "cell_type": "markdown",
   "metadata": {},
   "source": [
    "We've selected those effective features by optimizing the accuracy of decision tree algorithm. However, we would never know how good can the accuracy be if we do not try out other algorithms and tuning the parametres. In this section, I am gonna pick a best algorithm that gives best shot. "
   ]
  },
  {
   "cell_type": "markdown",
   "metadata": {},
   "source": [
    "## 4.1 Algorithm Performance"
   ]
  },
  {
   "cell_type": "markdown",
   "metadata": {},
   "source": [
    "## Naive Bayes"
   ]
  },
  {
   "cell_type": "code",
   "execution_count": 19,
   "metadata": {},
   "outputs": [
    {
     "name": "stdout",
     "output_type": "stream",
     "text": [
      "Pipeline(steps=[('features', FeatureUnion(n_jobs=1,\n",
      "       transformer_list=[('scale', MinMaxScaler(copy=True, feature_range=(0, 1)))],\n",
      "       transformer_weights=None)), ('classify', GaussianNB(priors=None))])\n",
      "\tAccuracy: 0.84873\tPrecision: 0.41087\tRecall: 0.31000\tF1: 0.35338\tF2: 0.32601\n",
      "\tTotal predictions: 15000\tTrue positives:  620\tFalse positives:  889\tFalse negatives: 1380\tTrue negatives: 12111\n",
      "\n",
      "Time used:  4.0\n"
     ]
    }
   ],
   "source": [
    "hide_me\n",
    "from sklearn.naive_bayes import GaussianNB\n",
    "\n",
    "t0 = time()\n",
    "estimators_2 = [('features', combined_features),('classify', GaussianNB())]\n",
    "pclf_2 = Pipeline(estimators_2)\n",
    "test_classifier(pclf_2, dic, features_to_test_2)\n",
    "print \"Time used: \",  round(time()-t0, 2)"
   ]
  },
  {
   "cell_type": "markdown",
   "metadata": {},
   "source": [
    "## Random Forest"
   ]
  },
  {
   "cell_type": "code",
   "execution_count": 20,
   "metadata": {},
   "outputs": [
    {
     "name": "stdout",
     "output_type": "stream",
     "text": [
      "Pipeline(steps=[('features', FeatureUnion(n_jobs=1,\n",
      "       transformer_list=[('scale', MinMaxScaler(copy=True, feature_range=(0, 1)))],\n",
      "       transformer_weights=None)), ('classify', RandomForestClassifier(bootstrap=True, class_weight=None, criterion='gini',\n",
      "            max_depth=None, max_features='auto', ...imators=10, n_jobs=1, oob_score=False, random_state=None,\n",
      "            verbose=0, warm_start=False))])\n",
      "\tAccuracy: 0.86880\tPrecision: 0.52116\tRecall: 0.19700\tF1: 0.28592\tF2: 0.22499\n",
      "\tTotal predictions: 15000\tTrue positives:  394\tFalse positives:  362\tFalse negatives: 1606\tTrue negatives: 12638\n",
      "\n",
      "Time used:  47.52\n"
     ]
    }
   ],
   "source": [
    "hide_me\n",
    "from sklearn.ensemble import RandomForestClassifier\n",
    "\n",
    "t0 = time()\n",
    "estimators_3 = [('features', combined_features),('classify', RandomForestClassifier())]\n",
    "pclf_3 = Pipeline(estimators_3)\n",
    "test_classifier(pclf_3, dic, features_to_test_2)\n",
    "print \"Time used: \",  round(time()-t0, 2)"
   ]
  },
  {
   "cell_type": "markdown",
   "metadata": {},
   "source": [
    "## K Nearest Neighbor"
   ]
  },
  {
   "cell_type": "code",
   "execution_count": 21,
   "metadata": {},
   "outputs": [
    {
     "name": "stdout",
     "output_type": "stream",
     "text": [
      "Pipeline(steps=[('features', FeatureUnion(n_jobs=1,\n",
      "       transformer_list=[('scale', MinMaxScaler(copy=True, feature_range=(0, 1)))],\n",
      "       transformer_weights=None)), ('classify', KNeighborsClassifier(algorithm='auto', leaf_size=30, metric='minkowski',\n",
      "           metric_params=None, n_jobs=1, n_neighbors=5, p=2,\n",
      "           weights='uniform'))])\n",
      "\tAccuracy: 0.85220\tPrecision: 0.21671\tRecall: 0.04150\tF1: 0.06966\tF2: 0.04950\n",
      "\tTotal predictions: 15000\tTrue positives:   83\tFalse positives:  300\tFalse negatives: 1917\tTrue negatives: 12700\n",
      "\n",
      "Time used:  5.02\n"
     ]
    }
   ],
   "source": [
    "hide_me\n",
    "from sklearn.neighbors import KNeighborsClassifier\n",
    "\n",
    "t0 = time()\n",
    "estimators_4 = [('features', combined_features),('classify', KNeighborsClassifier())]\n",
    "pclf_4 = Pipeline(estimators_4)\n",
    "test_classifier(pclf_4, dic, features_to_test_2)\n",
    "print \"Time used: \",  round(time()-t0, 2)"
   ]
  },
  {
   "cell_type": "code",
   "execution_count": 22,
   "metadata": {},
   "outputs": [
    {
     "data": {
      "text/html": [
       "<div>\n",
       "<style>\n",
       "    .dataframe thead tr:only-child th {\n",
       "        text-align: right;\n",
       "    }\n",
       "\n",
       "    .dataframe thead th {\n",
       "        text-align: left;\n",
       "    }\n",
       "\n",
       "    .dataframe tbody tr th {\n",
       "        vertical-align: top;\n",
       "    }\n",
       "</style>\n",
       "<table border=\"1\" class=\"dataframe\">\n",
       "  <thead>\n",
       "    <tr style=\"text-align: right;\">\n",
       "      <th></th>\n",
       "      <th>Decision Tree</th>\n",
       "      <th>K Nearest Neighbour</th>\n",
       "      <th>Naive Bayes</th>\n",
       "      <th>Random Forest</th>\n",
       "    </tr>\n",
       "  </thead>\n",
       "  <tbody>\n",
       "    <tr>\n",
       "      <th>Accuracy</th>\n",
       "      <td>0.81521</td>\n",
       "      <td>0.86686</td>\n",
       "      <td>0.82450</td>\n",
       "      <td>0.85179</td>\n",
       "    </tr>\n",
       "    <tr>\n",
       "      <th>Precision</th>\n",
       "      <td>0.30446</td>\n",
       "      <td>0.68994</td>\n",
       "      <td>0.38216</td>\n",
       "      <td>0.40554</td>\n",
       "    </tr>\n",
       "    <tr>\n",
       "      <th>Recall</th>\n",
       "      <td>0.22850</td>\n",
       "      <td>0.12350</td>\n",
       "      <td>0.37050</td>\n",
       "      <td>0.08050</td>\n",
       "    </tr>\n",
       "    <tr>\n",
       "      <th>Time</th>\n",
       "      <td>3.51000</td>\n",
       "      <td>4.23000</td>\n",
       "      <td>3.53000</td>\n",
       "      <td>43.40000</td>\n",
       "    </tr>\n",
       "  </tbody>\n",
       "</table>\n",
       "</div>"
      ],
      "text/plain": [
       "           Decision Tree  K Nearest Neighbour  Naive Bayes  Random Forest\n",
       "Accuracy         0.81521              0.86686      0.82450        0.85179\n",
       "Precision        0.30446              0.68994      0.38216        0.40554\n",
       "Recall           0.22850              0.12350      0.37050        0.08050\n",
       "Time             3.51000              4.23000      3.53000       43.40000"
      ]
     },
     "execution_count": 22,
     "metadata": {},
     "output_type": "execute_result"
    }
   ],
   "source": [
    "hide_me\n",
    "index = [\"Accuracy\", \"Precision\", \"Recall\", \"Time\"]\n",
    "Performance = pd.DataFrame(data={\"Decision Tree\": [0.81521, 0.30446, 0.22850, 3.51],\n",
    "                                 \"Naive Bayes\": [0.82450, 0.38216, 0.37050, 3.53], \n",
    "                                 \"K Nearest Neighbour\": [0.86686, 0.68994, 0.12350, 4.23],\n",
    "                                 \"Random Forest\": [0.85179, 0.40554, 0.08050, 43.4] }, index=index)\n",
    "Performance"
   ]
  },
  {
   "cell_type": "markdown",
   "metadata": {},
   "source": [
    "## 4.2 Tuning algorithms"
   ]
  },
  {
   "cell_type": "markdown",
   "metadata": {},
   "source": [
    "We have already got the performance of all our algorithms, however, it is not yet to judge which algorithm is the best one. To maximize the performance of an algorithm, we need to tune the key pamareters, which means to adjust the value of the parameters in the classifier. Switching gears to reach the fastest speed."
   ]
  },
  {
   "cell_type": "markdown",
   "metadata": {},
   "source": [
    "### Tuning Decision Trees"
   ]
  },
  {
   "cell_type": "code",
   "execution_count": 23,
   "metadata": {},
   "outputs": [
    {
     "data": {
      "text/plain": [
       "{'cv': None,\n",
       " 'error_score': 'raise',\n",
       " 'estimator': DecisionTreeClassifier(class_weight=None, criterion='gini', max_depth=None,\n",
       "             max_features=None, max_leaf_nodes=None,\n",
       "             min_impurity_split=1e-07, min_samples_leaf=1,\n",
       "             min_samples_split=2, min_weight_fraction_leaf=0.0,\n",
       "             presort=False, random_state=None, splitter='best'),\n",
       " 'estimator__class_weight': None,\n",
       " 'estimator__criterion': 'gini',\n",
       " 'estimator__max_depth': None,\n",
       " 'estimator__max_features': None,\n",
       " 'estimator__max_leaf_nodes': None,\n",
       " 'estimator__min_impurity_split': 1e-07,\n",
       " 'estimator__min_samples_leaf': 1,\n",
       " 'estimator__min_samples_split': 2,\n",
       " 'estimator__min_weight_fraction_leaf': 0.0,\n",
       " 'estimator__presort': False,\n",
       " 'estimator__random_state': None,\n",
       " 'estimator__splitter': 'best',\n",
       " 'fit_params': {},\n",
       " 'iid': True,\n",
       " 'n_jobs': 1,\n",
       " 'param_grid': {'criterion': ('gini', 'entropy'),\n",
       "  'splitter': ('best', 'random')},\n",
       " 'pre_dispatch': '2*n_jobs',\n",
       " 'refit': True,\n",
       " 'scoring': 'recall',\n",
       " 'verbose': 0}"
      ]
     },
     "execution_count": 23,
     "metadata": {},
     "output_type": "execute_result"
    }
   ],
   "source": [
    "hide_me\n",
    "parameters = {'criterion':('gini', 'entropy'), \n",
    "             'splitter':('best','random')}\n",
    "pcl_1 = GridSearchCV(DecisionTreeClassifier(), param_grid = parameters,scoring = 'recall')\n",
    "pcl_1.get_params()"
   ]
  },
  {
   "cell_type": "markdown",
   "metadata": {},
   "source": [
    "The best parameters we got from GridsearchCV is exact the same as default."
   ]
  },
  {
   "cell_type": "markdown",
   "metadata": {},
   "source": [
    "### Tuning K Nearest Neighbours"
   ]
  },
  {
   "cell_type": "code",
   "execution_count": 24,
   "metadata": {},
   "outputs": [
    {
     "data": {
      "text/plain": [
       "{'cv': None,\n",
       " 'error_score': 'raise',\n",
       " 'estimator': KNeighborsClassifier(algorithm='auto', leaf_size=30, metric='minkowski',\n",
       "            metric_params=None, n_jobs=1, n_neighbors=5, p=2,\n",
       "            weights='uniform'),\n",
       " 'estimator__algorithm': 'auto',\n",
       " 'estimator__leaf_size': 30,\n",
       " 'estimator__metric': 'minkowski',\n",
       " 'estimator__metric_params': None,\n",
       " 'estimator__n_jobs': 1,\n",
       " 'estimator__n_neighbors': 5,\n",
       " 'estimator__p': 2,\n",
       " 'estimator__weights': 'uniform',\n",
       " 'fit_params': {},\n",
       " 'iid': True,\n",
       " 'n_jobs': 1,\n",
       " 'param_grid': {'algorithm': ('ball_tree', 'kd_tree', 'brute', 'auto'),\n",
       "  'leaf_size': [0, 50],\n",
       "  'n_jobs': [0, 10],\n",
       "  'n_neighbors': [1, 10],\n",
       "  'p': [1, 10],\n",
       "  'weight': ['uniform', 'distance']},\n",
       " 'pre_dispatch': '2*n_jobs',\n",
       " 'refit': True,\n",
       " 'scoring': 'recall',\n",
       " 'verbose': 0}"
      ]
     },
     "execution_count": 24,
     "metadata": {},
     "output_type": "execute_result"
    }
   ],
   "source": [
    "hide_me\n",
    "parameters = {'n_neighbors':[1,10], 'weight':['uniform', 'distance'], 'algorithm':('ball_tree','kd_tree','brute','auto'),\n",
    "             'leaf_size': [0, 50], 'p': [1, 10], 'n_jobs': [0, 10]}\n",
    "pcl_3 = GridSearchCV(KNeighborsClassifier(), param_grid = parameters,scoring = 'recall')\n",
    "pcl_3.get_params()"
   ]
  },
  {
   "cell_type": "markdown",
   "metadata": {},
   "source": [
    "We found that the pamareters in the original test was already the best tuned."
   ]
  },
  {
   "cell_type": "markdown",
   "metadata": {},
   "source": [
    "### Tuning Random Forest"
   ]
  },
  {
   "cell_type": "code",
   "execution_count": 25,
   "metadata": {},
   "outputs": [
    {
     "data": {
      "text/plain": [
       "{'cv': None,\n",
       " 'error_score': 'raise',\n",
       " 'estimator': RandomForestClassifier(bootstrap=True, class_weight=None, criterion='gini',\n",
       "             max_depth=None, max_features='auto', max_leaf_nodes=None,\n",
       "             min_impurity_split=1e-07, min_samples_leaf=1,\n",
       "             min_samples_split=2, min_weight_fraction_leaf=0.0,\n",
       "             n_estimators=10, n_jobs=1, oob_score=False, random_state=None,\n",
       "             verbose=0, warm_start=False),\n",
       " 'estimator__bootstrap': True,\n",
       " 'estimator__class_weight': None,\n",
       " 'estimator__criterion': 'gini',\n",
       " 'estimator__max_depth': None,\n",
       " 'estimator__max_features': 'auto',\n",
       " 'estimator__max_leaf_nodes': None,\n",
       " 'estimator__min_impurity_split': 1e-07,\n",
       " 'estimator__min_samples_leaf': 1,\n",
       " 'estimator__min_samples_split': 2,\n",
       " 'estimator__min_weight_fraction_leaf': 0.0,\n",
       " 'estimator__n_estimators': 10,\n",
       " 'estimator__n_jobs': 1,\n",
       " 'estimator__oob_score': False,\n",
       " 'estimator__random_state': None,\n",
       " 'estimator__verbose': 0,\n",
       " 'estimator__warm_start': False,\n",
       " 'fit_params': {},\n",
       " 'iid': True,\n",
       " 'n_jobs': 1,\n",
       " 'param_grid': {'class_weight': ('balanced', None),\n",
       "  'criterion': ('gini', 'entropy'),\n",
       "  'min_samples_split': [0, 10],\n",
       "  'n_estimators': [0, 30],\n",
       "  'verbose': [0, 10]},\n",
       " 'pre_dispatch': '2*n_jobs',\n",
       " 'refit': True,\n",
       " 'scoring': 'recall',\n",
       " 'verbose': 0}"
      ]
     },
     "execution_count": 25,
     "metadata": {},
     "output_type": "execute_result"
    }
   ],
   "source": [
    "hide_me\n",
    "parameters = {'criterion':('gini', 'entropy'), \"min_samples_split\": [0, 10], \"verbose\": [0, 10],\n",
    "             'n_estimators':[0, 30], \"class_weight\": (\"balanced\", None)}\n",
    "pcl_4 = GridSearchCV(RandomForestClassifier(), param_grid = parameters,scoring = 'recall')\n",
    "pcl_4.get_params()"
   ]
  },
  {
   "cell_type": "markdown",
   "metadata": {},
   "source": [
    "Again, the default test of random forest is the best tuned."
   ]
  },
  {
   "cell_type": "markdown",
   "metadata": {},
   "source": [
    "### Final algorithm"
   ]
  },
  {
   "cell_type": "markdown",
   "metadata": {},
   "source": [
    "Based on the performance of all the algorithms, Naive Bayes is the best one. Our final algorithm is Naive Bayes! "
   ]
  },
  {
   "cell_type": "markdown",
   "metadata": {},
   "source": [
    "# 5.Validate and Evaluate"
   ]
  },
  {
   "cell_type": "markdown",
   "metadata": {},
   "source": [
    "## 5.1 Validation"
   ]
  },
  {
   "cell_type": "markdown",
   "metadata": {},
   "source": [
    "Validation is the process of testing the performance of an algorithm using train/test spliting samples. Learning and testing a estimator using same data would cause overfitting, because a model would repeat the labels that were used to train, therefore it would get a high accuracy but is not validated or overestimate. To avoid overfitting and giving the true performance, I use StratifiedKFold cross validation to improve. We split the data set evenly into k parts(k is changable), each time, one of the k subsets is randomly choose as a test set and the other data been a training set, then we calculate the overall average score. The advantage of StratifiedKFold cross validation is that every single data point goes to a test set once, thus the a data point won't a test point and train point at the same time. Another advantage is that we do not have sufficient data, this method can help to reduce the inaccuracy due to lack of data. These two advantages are shared by both StratifiedKFold and normal kfold method, the reason we choose StratifiedKFold over kfold is because we are dealing with small imbalanced datasets in this case, it is possible that some folds contain almost none (or even none!) instances of the minority class. The idea behind stratification is to keep the percentage of the target class as close as possible to the one we have in the complete dataset. The sample data set spread more evenly, thus we are testing a sample that are highly similar to the original full data set.  "
   ]
  },
  {
   "cell_type": "code",
   "execution_count": 29,
   "metadata": {
    "collapsed": true
   },
   "outputs": [],
   "source": [
    "hide_me\n",
    "from feature_format import featureFormat, targetFeatureSplit\n",
    "data = featureFormat(dic, features_to_test_2, sort_keys = True)\n",
    "labels, features = targetFeatureSplit(data)\n",
    "def cross_validation():\n",
    "    import sklearn.metrics\n",
    "    from sklearn.cross_validation import train_test_split                          \n",
    "    features_train, features_test, labels_train, labels_test = train_test_split(features, labels, test_size=0.3, random_state=42)\n",
    "    #from sklearn.cross_validation import KFold\n",
    "    from sklearn.model_selection import StratifiedKFold #New adding\n",
    "    precisions = [] #New adding\n",
    "    recalls = [] #New adding\n",
    "    scores = []\n",
    "    #skf=KFold(len(labels),3) \n",
    "    skf = StratifiedKFold(n_splits=3) #new adding\n",
    "    for train_indices, test_indices in skf.split(features, labels):\n",
    "        features_train= [features[ii] for ii in train_indices]\n",
    "        features_test= [features[ii] for ii in test_indices]\n",
    "        labels_train=[labels[ii] for ii in train_indices]\n",
    "        labels_test=[labels[ii] for ii in test_indices]\n",
    "        from sklearn.naive_bayes import GaussianNB\n",
    "        clf = GaussianNB()\n",
    "        clf.fit(features_train,labels_train)\n",
    "        pred= clf.predict(features_test)\n",
    "        scores.append(sklearn.metrics.accuracy_score(labels_test, pred))\n",
    "        precisions.append(sklearn.metrics.precision_score(labels_test, pred))\n",
    "        recalls.append(sklearn.metrics.recall_score(labels_test, pred))\n",
    "    \n",
    "    print \"accuracy:\", np.mean(scores)\n",
    "    print \"precision:\", np.mean(precisions)\n",
    "    print \"recall:\", np.mean(recalls)"
   ]
  },
  {
   "cell_type": "code",
   "execution_count": 28,
   "metadata": {},
   "outputs": [
    {
     "name": "stdout",
     "output_type": "stream",
     "text": [
      "accuracy: 0.833333333333\n",
      "precision: 0.331746031746\n",
      "recall: 0.333333333333\n"
     ]
    }
   ],
   "source": [
    "cross_validation()"
   ]
  },
  {
   "cell_type": "markdown",
   "metadata": {},
   "source": [
    "## 5.2 Evaluation"
   ]
  },
  {
   "cell_type": "markdown",
   "metadata": {},
   "source": [
    "Accuracy is good metric in evaluating the performance of a model. However, it has a few tangible shortcomings that we can not omit. The first one is that it is not very useful in skewed classes, which is the case in this data set, since most of employees were not involved in this fraud. In this case, lots of labels are not poi, therefore, predictions will not be accurate. The second is that we may be more interested in only predicting the poi correctly than overall prediction, which include predicting non poi correctly, say, the poi would be put in jail for a long period, so we don't want the innocent people to take this risk. The third one is that sometimes, especially in identifying fraud cases, we typically want a broad circle to include as many potential suspects as possible so that we can do further investigation to free those innocent people.\n",
    "\n",
    "Based on our concerns above, a single accuracy metric is not enough. Therefore we introduce two more metrics to help make a good decision, precision and recall. Like its literal meaning, precision means that we aim to find the suspect without harming the innocence, in this specific case,  it can be interpreted as the likelihood that a person identified as a POI is actually a true POI. Recall means we want to get as more suspects as possible, in this case, it can be interpreted as th fraction of poi that is detected among all the poi. In fraud cases, we would like a higher recall even if sacrifice precision. The precision and recall rate in our algorithms are not very high, however, it is for sure better than wild guesses.\n"
   ]
  },
  {
   "cell_type": "markdown",
   "metadata": {},
   "source": [
    "# Referrences"
   ]
  },
  {
   "cell_type": "markdown",
   "metadata": {},
   "source": [
    "seaborn.heatmap http://seaborn.pydata.org/generated/seaborn.heatmap.html"
   ]
  },
  {
   "cell_type": "markdown",
   "metadata": {},
   "source": [
    " random forest sklearn documentation http://scikit-learn.org/stable/modules/generated/sklearn.ensemble.RandomForestClassifier.html"
   ]
  },
  {
   "cell_type": "markdown",
   "metadata": {},
   "source": [
    "KNN sklearn documentation  http://scikit-learn.org/stable/modules/generated/sklearn.neighbors.KNeighborsClassifier.html"
   ]
  },
  {
   "cell_type": "markdown",
   "metadata": {},
   "source": [
    "decision tree sklearn documentation http://scikit-learn.org/stable/modules/generated/sklearn.tree.DecisionTreeClassifier.html"
   ]
  },
  {
   "cell_type": "markdown",
   "metadata": {},
   "source": [
    "naive bayes sklearn documentation http://scikit-learn.org/stable/modules/naive_bayes.html"
   ]
  },
  {
   "cell_type": "markdown",
   "metadata": {},
   "source": [
    "Model Validation, Machine Learning https://link.springer.com/referenceworkentry/10.1007%2F978-1-4419-9863-7_233"
   ]
  },
  {
   "cell_type": "markdown",
   "metadata": {},
   "source": [
    "cross validation https://www.cs.cmu.edu/~schneide/tut5/node42.html"
   ]
  },
  {
   "cell_type": "markdown",
   "metadata": {
    "collapsed": true
   },
   "source": [
    "StratifiedKFold http://scikit-learn.org/stable/modules/generated/sklearn.cross_validation.StratifiedShuffleSplit.html"
   ]
  },
  {
   "cell_type": "code",
   "execution_count": null,
   "metadata": {
    "collapsed": true
   },
   "outputs": [],
   "source": []
  }
 ],
 "metadata": {
  "anaconda-cloud": {},
  "kernelspec": {
   "display_name": "Python 2",
   "language": "python",
   "name": "python2"
  },
  "language_info": {
   "codemirror_mode": {
    "name": "ipython",
    "version": 2
   },
   "file_extension": ".py",
   "mimetype": "text/x-python",
   "name": "python",
   "nbconvert_exporter": "python",
   "pygments_lexer": "ipython2",
   "version": "2.7.13"
  }
 },
 "nbformat": 4,
 "nbformat_minor": 1
}
